{
 "cells": [
  {
   "cell_type": "code",
   "execution_count": 2,
   "id": "7df640a9",
   "metadata": {},
   "outputs": [],
   "source": [
    "import numpy as np\n",
    "import pandas as pd\n",
    "import seaborn as sns\n",
    "import matplotlib.pyplot as plt"
   ]
  },
  {
   "cell_type": "code",
   "execution_count": 3,
   "id": "a91fe642",
   "metadata": {},
   "outputs": [],
   "source": [
    "ipl=pd.read_csv(\"IPL_Dataset.csv\")"
   ]
  },
  {
   "cell_type": "code",
   "execution_count": 4,
   "id": "90397c84",
   "metadata": {},
   "outputs": [
    {
     "data": {
      "text/html": [
       "<div>\n",
       "<style scoped>\n",
       "    .dataframe tbody tr th:only-of-type {\n",
       "        vertical-align: middle;\n",
       "    }\n",
       "\n",
       "    .dataframe tbody tr th {\n",
       "        vertical-align: top;\n",
       "    }\n",
       "\n",
       "    .dataframe thead th {\n",
       "        text-align: right;\n",
       "    }\n",
       "</style>\n",
       "<table border=\"1\" class=\"dataframe\">\n",
       "  <thead>\n",
       "    <tr style=\"text-align: right;\">\n",
       "      <th></th>\n",
       "      <th>POS</th>\n",
       "      <th>Player</th>\n",
       "      <th>Mat</th>\n",
       "      <th>Inns</th>\n",
       "      <th>NO</th>\n",
       "      <th>Runs</th>\n",
       "      <th>HS</th>\n",
       "      <th>Avg</th>\n",
       "      <th>BF</th>\n",
       "      <th>SR</th>\n",
       "      <th>100</th>\n",
       "      <th>50</th>\n",
       "      <th>4s</th>\n",
       "      <th>6s</th>\n",
       "    </tr>\n",
       "  </thead>\n",
       "  <tbody>\n",
       "    <tr>\n",
       "      <th>0</th>\n",
       "      <td>1</td>\n",
       "      <td>KL Rahul</td>\n",
       "      <td>14</td>\n",
       "      <td>14</td>\n",
       "      <td>2</td>\n",
       "      <td>670</td>\n",
       "      <td>132*</td>\n",
       "      <td>55.83</td>\n",
       "      <td>518</td>\n",
       "      <td>129.34</td>\n",
       "      <td>1</td>\n",
       "      <td>5</td>\n",
       "      <td>58</td>\n",
       "      <td>23</td>\n",
       "    </tr>\n",
       "    <tr>\n",
       "      <th>1</th>\n",
       "      <td>2</td>\n",
       "      <td>Shikhar Dhawan</td>\n",
       "      <td>17</td>\n",
       "      <td>17</td>\n",
       "      <td>3</td>\n",
       "      <td>618</td>\n",
       "      <td>106*</td>\n",
       "      <td>44.14</td>\n",
       "      <td>427</td>\n",
       "      <td>144.73</td>\n",
       "      <td>2</td>\n",
       "      <td>4</td>\n",
       "      <td>67</td>\n",
       "      <td>12</td>\n",
       "    </tr>\n",
       "    <tr>\n",
       "      <th>2</th>\n",
       "      <td>3</td>\n",
       "      <td>David Warner</td>\n",
       "      <td>16</td>\n",
       "      <td>16</td>\n",
       "      <td>2</td>\n",
       "      <td>548</td>\n",
       "      <td>85*</td>\n",
       "      <td>39.14</td>\n",
       "      <td>407</td>\n",
       "      <td>134.64</td>\n",
       "      <td>0</td>\n",
       "      <td>4</td>\n",
       "      <td>52</td>\n",
       "      <td>14</td>\n",
       "    </tr>\n",
       "    <tr>\n",
       "      <th>3</th>\n",
       "      <td>4</td>\n",
       "      <td>Shreyas Iyer</td>\n",
       "      <td>17</td>\n",
       "      <td>17</td>\n",
       "      <td>2</td>\n",
       "      <td>519</td>\n",
       "      <td>88*</td>\n",
       "      <td>34.60</td>\n",
       "      <td>421</td>\n",
       "      <td>123.27</td>\n",
       "      <td>0</td>\n",
       "      <td>3</td>\n",
       "      <td>40</td>\n",
       "      <td>16</td>\n",
       "    </tr>\n",
       "    <tr>\n",
       "      <th>4</th>\n",
       "      <td>5</td>\n",
       "      <td>Ishan Kishan</td>\n",
       "      <td>14</td>\n",
       "      <td>13</td>\n",
       "      <td>4</td>\n",
       "      <td>516</td>\n",
       "      <td>99</td>\n",
       "      <td>57.33</td>\n",
       "      <td>354</td>\n",
       "      <td>145.76</td>\n",
       "      <td>0</td>\n",
       "      <td>4</td>\n",
       "      <td>36</td>\n",
       "      <td>30</td>\n",
       "    </tr>\n",
       "  </tbody>\n",
       "</table>\n",
       "</div>"
      ],
      "text/plain": [
       "   POS          Player  Mat  Inns  NO  Runs    HS    Avg   BF      SR  100  \\\n",
       "0    1        KL Rahul   14    14   2   670  132*  55.83  518  129.34    1   \n",
       "1    2  Shikhar Dhawan   17    17   3   618  106*  44.14  427  144.73    2   \n",
       "2    3    David Warner   16    16   2   548   85*  39.14  407  134.64    0   \n",
       "3    4    Shreyas Iyer   17    17   2   519   88*  34.60  421  123.27    0   \n",
       "4    5    Ishan Kishan   14    13   4   516    99  57.33  354  145.76    0   \n",
       "\n",
       "   50  4s  6s  \n",
       "0   5  58  23  \n",
       "1   4  67  12  \n",
       "2   4  52  14  \n",
       "3   3  40  16  \n",
       "4   4  36  30  "
      ]
     },
     "execution_count": 4,
     "metadata": {},
     "output_type": "execute_result"
    }
   ],
   "source": [
    "ipl.head()"
   ]
  },
  {
   "cell_type": "code",
   "execution_count": 5,
   "id": "b75a1d0d",
   "metadata": {},
   "outputs": [
    {
     "name": "stdout",
     "output_type": "stream",
     "text": [
      "<class 'pandas.core.frame.DataFrame'>\n",
      "RangeIndex: 133 entries, 0 to 132\n",
      "Data columns (total 14 columns):\n",
      " #   Column  Non-Null Count  Dtype  \n",
      "---  ------  --------------  -----  \n",
      " 0   POS     133 non-null    int64  \n",
      " 1   Player  133 non-null    object \n",
      " 2   Mat     133 non-null    int64  \n",
      " 3   Inns    133 non-null    int64  \n",
      " 4   NO      133 non-null    int64  \n",
      " 5   Runs    133 non-null    int64  \n",
      " 6   HS      133 non-null    object \n",
      " 7   Avg     133 non-null    float64\n",
      " 8   BF      133 non-null    int64  \n",
      " 9   SR      133 non-null    float64\n",
      " 10  100     133 non-null    int64  \n",
      " 11  50      133 non-null    int64  \n",
      " 12  4s      133 non-null    int64  \n",
      " 13  6s      133 non-null    int64  \n",
      "dtypes: float64(2), int64(10), object(2)\n",
      "memory usage: 14.7+ KB\n"
     ]
    }
   ],
   "source": [
    "ipl.info()"
   ]
  },
  {
   "cell_type": "markdown",
   "id": "51bcd0c9",
   "metadata": {},
   "source": [
    "#### Q1. What is the maximum number of matches played by an individual player in a season?"
   ]
  },
  {
   "cell_type": "code",
   "execution_count": 6,
   "id": "29658e72",
   "metadata": {},
   "outputs": [
    {
     "data": {
      "text/html": [
       "<div>\n",
       "<style scoped>\n",
       "    .dataframe tbody tr th:only-of-type {\n",
       "        vertical-align: middle;\n",
       "    }\n",
       "\n",
       "    .dataframe tbody tr th {\n",
       "        vertical-align: top;\n",
       "    }\n",
       "\n",
       "    .dataframe thead th {\n",
       "        text-align: right;\n",
       "    }\n",
       "</style>\n",
       "<table border=\"1\" class=\"dataframe\">\n",
       "  <thead>\n",
       "    <tr style=\"text-align: right;\">\n",
       "      <th></th>\n",
       "      <th>Player</th>\n",
       "      <th>Mat</th>\n",
       "    </tr>\n",
       "  </thead>\n",
       "  <tbody>\n",
       "    <tr>\n",
       "      <th>3</th>\n",
       "      <td>Shreyas Iyer</td>\n",
       "      <td>17</td>\n",
       "    </tr>\n",
       "    <tr>\n",
       "      <th>1</th>\n",
       "      <td>Shikhar Dhawan</td>\n",
       "      <td>17</td>\n",
       "    </tr>\n",
       "    <tr>\n",
       "      <th>67</th>\n",
       "      <td>Kagiso Rabada</td>\n",
       "      <td>17</td>\n",
       "    </tr>\n",
       "  </tbody>\n",
       "</table>\n",
       "</div>"
      ],
      "text/plain": [
       "            Player  Mat\n",
       "3     Shreyas Iyer   17\n",
       "1   Shikhar Dhawan   17\n",
       "67   Kagiso Rabada   17"
      ]
     },
     "execution_count": 6,
     "metadata": {},
     "output_type": "execute_result"
    }
   ],
   "source": [
    "ipl.sort_values(\"Mat\",ascending=False).head(3)[[\"Player\",\"Mat\"]]"
   ]
  },
  {
   "cell_type": "code",
   "execution_count": 7,
   "id": "5b29278e",
   "metadata": {},
   "outputs": [
    {
     "data": {
      "text/html": [
       "<div>\n",
       "<style scoped>\n",
       "    .dataframe tbody tr th:only-of-type {\n",
       "        vertical-align: middle;\n",
       "    }\n",
       "\n",
       "    .dataframe tbody tr th {\n",
       "        vertical-align: top;\n",
       "    }\n",
       "\n",
       "    .dataframe thead th {\n",
       "        text-align: right;\n",
       "    }\n",
       "</style>\n",
       "<table border=\"1\" class=\"dataframe\">\n",
       "  <thead>\n",
       "    <tr style=\"text-align: right;\">\n",
       "      <th></th>\n",
       "      <th>Player</th>\n",
       "      <th>Mat</th>\n",
       "    </tr>\n",
       "  </thead>\n",
       "  <tbody>\n",
       "    <tr>\n",
       "      <th>1</th>\n",
       "      <td>Shikhar Dhawan</td>\n",
       "      <td>17</td>\n",
       "    </tr>\n",
       "    <tr>\n",
       "      <th>3</th>\n",
       "      <td>Shreyas Iyer</td>\n",
       "      <td>17</td>\n",
       "    </tr>\n",
       "    <tr>\n",
       "      <th>19</th>\n",
       "      <td>Marcus Stoinis</td>\n",
       "      <td>17</td>\n",
       "    </tr>\n",
       "  </tbody>\n",
       "</table>\n",
       "</div>"
      ],
      "text/plain": [
       "            Player  Mat\n",
       "1   Shikhar Dhawan   17\n",
       "3     Shreyas Iyer   17\n",
       "19  Marcus Stoinis   17"
      ]
     },
     "execution_count": 7,
     "metadata": {},
     "output_type": "execute_result"
    }
   ],
   "source": [
    "# 2nd approach\n",
    "ipl.nlargest(3,\"Mat\")[[\"Player\",\"Mat\"]]"
   ]
  },
  {
   "cell_type": "markdown",
   "id": "dacda624",
   "metadata": {},
   "source": [
    "#### Q2. What is the highest average of a player in a season?"
   ]
  },
  {
   "cell_type": "code",
   "execution_count": 8,
   "id": "3f243e23",
   "metadata": {},
   "outputs": [
    {
     "data": {
      "text/html": [
       "<div>\n",
       "<style scoped>\n",
       "    .dataframe tbody tr th:only-of-type {\n",
       "        vertical-align: middle;\n",
       "    }\n",
       "\n",
       "    .dataframe tbody tr th {\n",
       "        vertical-align: top;\n",
       "    }\n",
       "\n",
       "    .dataframe thead th {\n",
       "        text-align: right;\n",
       "    }\n",
       "</style>\n",
       "<table border=\"1\" class=\"dataframe\">\n",
       "  <thead>\n",
       "    <tr style=\"text-align: right;\">\n",
       "      <th></th>\n",
       "      <th>Player</th>\n",
       "      <th>Avg</th>\n",
       "    </tr>\n",
       "  </thead>\n",
       "  <tbody>\n",
       "    <tr>\n",
       "      <th>57</th>\n",
       "      <td>Deepak Hooda</td>\n",
       "      <td>101.0</td>\n",
       "    </tr>\n",
       "  </tbody>\n",
       "</table>\n",
       "</div>"
      ],
      "text/plain": [
       "          Player    Avg\n",
       "57  Deepak Hooda  101.0"
      ]
     },
     "execution_count": 8,
     "metadata": {},
     "output_type": "execute_result"
    }
   ],
   "source": [
    "ipl.nlargest(1,\"Avg\")[[\"Player\",\"Avg\"]]"
   ]
  },
  {
   "cell_type": "code",
   "execution_count": 5,
   "id": "4b71a3a0",
   "metadata": {},
   "outputs": [
    {
     "data": {
      "text/html": [
       "<div>\n",
       "<style scoped>\n",
       "    .dataframe tbody tr th:only-of-type {\n",
       "        vertical-align: middle;\n",
       "    }\n",
       "\n",
       "    .dataframe tbody tr th {\n",
       "        vertical-align: top;\n",
       "    }\n",
       "\n",
       "    .dataframe thead th {\n",
       "        text-align: right;\n",
       "    }\n",
       "</style>\n",
       "<table border=\"1\" class=\"dataframe\">\n",
       "  <thead>\n",
       "    <tr style=\"text-align: right;\">\n",
       "      <th></th>\n",
       "      <th>Player</th>\n",
       "      <th>Avg</th>\n",
       "    </tr>\n",
       "  </thead>\n",
       "  <tbody>\n",
       "    <tr>\n",
       "      <th>57</th>\n",
       "      <td>Deepak Hooda</td>\n",
       "      <td>101.0</td>\n",
       "    </tr>\n",
       "  </tbody>\n",
       "</table>\n",
       "</div>"
      ],
      "text/plain": [
       "          Player    Avg\n",
       "57  Deepak Hooda  101.0"
      ]
     },
     "execution_count": 5,
     "metadata": {},
     "output_type": "execute_result"
    }
   ],
   "source": [
    "# 2nd appraoch\n",
    "ipl.sort_values(\"Avg\",ascending=False).head(1)[[\"Player\",\"Avg\"]]"
   ]
  },
  {
   "cell_type": "markdown",
   "id": "063afb44",
   "metadata": {},
   "source": [
    "#### Q3. What is the average number of matches played by the players in a season?"
   ]
  },
  {
   "cell_type": "code",
   "execution_count": 49,
   "id": "3adf3848",
   "metadata": {},
   "outputs": [
    {
     "data": {
      "text/plain": [
       "10"
      ]
     },
     "execution_count": 49,
     "metadata": {},
     "output_type": "execute_result"
    }
   ],
   "source": [
    "avg=round(sum(ipl[\"Mat\"])/ipl.shape[0])\n",
    "avg"
   ]
  },
  {
   "cell_type": "markdown",
   "id": "a1a65ef4",
   "metadata": {},
   "source": [
    "#### Q4. Please check the correlation between all the features."
   ]
  },
  {
   "cell_type": "code",
   "execution_count": 28,
   "id": "f592ba5a",
   "metadata": {},
   "outputs": [],
   "source": [
    "num_data=[fea for fea in ipl.columns if ipl[fea].dtype!=\"object\"]\n",
    "cat_data=[fea for fea in ipl.columns if ipl[fea].dtype!=\"object\"]"
   ]
  },
  {
   "cell_type": "code",
   "execution_count": 30,
   "id": "fb78b38b",
   "metadata": {},
   "outputs": [],
   "source": [
    "numerical_data=ipl[num_data]"
   ]
  },
  {
   "cell_type": "code",
   "execution_count": 122,
   "id": "d306b1eb",
   "metadata": {},
   "outputs": [
    {
     "data": {
      "text/plain": [
       "<Axes: >"
      ]
     },
     "execution_count": 122,
     "metadata": {},
     "output_type": "execute_result"
    },
    {
     "data": {
      "image/png": "[encoded data removed]",
      "text/plain": [
       "<Figure size 1000x1000 with 2 Axes>"
      ]
     },
     "metadata": {},
     "output_type": "display_data"
    }
   ],
   "source": [
    "plt.figure(figsize=(10,10))\n",
    "sns.heatmap(numerical_data.corr(),annot=True)"
   ]
  },
  {
   "cell_type": "markdown",
   "id": "eebac028",
   "metadata": {},
   "source": [
    "conclusion:<br>\n",
    "    1.strong correlation btn total runs vs number of fours/number of inning <br>\n",
    "    2.positive correlation btn Ball faced vs total runs / number of inning"
   ]
  },
  {
   "cell_type": "markdown",
   "id": "6e8caf8a",
   "metadata": {},
   "source": [
    "#### Q5. Check the list of players who has an average greater than 50 as well strike rate above 120."
   ]
  },
  {
   "cell_type": "code",
   "execution_count": 50,
   "id": "8d34b779",
   "metadata": {},
   "outputs": [
    {
     "data": {
      "text/html": [
       "<div>\n",
       "<style scoped>\n",
       "    .dataframe tbody tr th:only-of-type {\n",
       "        vertical-align: middle;\n",
       "    }\n",
       "\n",
       "    .dataframe tbody tr th {\n",
       "        vertical-align: top;\n",
       "    }\n",
       "\n",
       "    .dataframe thead th {\n",
       "        text-align: right;\n",
       "    }\n",
       "</style>\n",
       "<table border=\"1\" class=\"dataframe\">\n",
       "  <thead>\n",
       "    <tr style=\"text-align: right;\">\n",
       "      <th></th>\n",
       "      <th>POS</th>\n",
       "      <th>Player</th>\n",
       "      <th>Mat</th>\n",
       "      <th>Inns</th>\n",
       "      <th>NO</th>\n",
       "      <th>Runs</th>\n",
       "      <th>HS</th>\n",
       "      <th>Avg</th>\n",
       "      <th>BF</th>\n",
       "      <th>SR</th>\n",
       "      <th>100</th>\n",
       "      <th>50</th>\n",
       "      <th>4s</th>\n",
       "      <th>6s</th>\n",
       "    </tr>\n",
       "  </thead>\n",
       "  <tbody>\n",
       "    <tr>\n",
       "      <th>0</th>\n",
       "      <td>1</td>\n",
       "      <td>KL Rahul</td>\n",
       "      <td>14</td>\n",
       "      <td>14</td>\n",
       "      <td>2</td>\n",
       "      <td>670</td>\n",
       "      <td>132*</td>\n",
       "      <td>55.83</td>\n",
       "      <td>518</td>\n",
       "      <td>129.34</td>\n",
       "      <td>1</td>\n",
       "      <td>5</td>\n",
       "      <td>58</td>\n",
       "      <td>23</td>\n",
       "    </tr>\n",
       "    <tr>\n",
       "      <th>1</th>\n",
       "      <td>2</td>\n",
       "      <td>Shikhar Dhawan</td>\n",
       "      <td>17</td>\n",
       "      <td>17</td>\n",
       "      <td>3</td>\n",
       "      <td>618</td>\n",
       "      <td>106*</td>\n",
       "      <td>44.14</td>\n",
       "      <td>427</td>\n",
       "      <td>144.73</td>\n",
       "      <td>2</td>\n",
       "      <td>4</td>\n",
       "      <td>67</td>\n",
       "      <td>12</td>\n",
       "    </tr>\n",
       "    <tr>\n",
       "      <th>2</th>\n",
       "      <td>3</td>\n",
       "      <td>David Warner</td>\n",
       "      <td>16</td>\n",
       "      <td>16</td>\n",
       "      <td>2</td>\n",
       "      <td>548</td>\n",
       "      <td>85*</td>\n",
       "      <td>39.14</td>\n",
       "      <td>407</td>\n",
       "      <td>134.64</td>\n",
       "      <td>0</td>\n",
       "      <td>4</td>\n",
       "      <td>52</td>\n",
       "      <td>14</td>\n",
       "    </tr>\n",
       "    <tr>\n",
       "      <th>3</th>\n",
       "      <td>4</td>\n",
       "      <td>Shreyas Iyer</td>\n",
       "      <td>17</td>\n",
       "      <td>17</td>\n",
       "      <td>2</td>\n",
       "      <td>519</td>\n",
       "      <td>88*</td>\n",
       "      <td>34.60</td>\n",
       "      <td>421</td>\n",
       "      <td>123.27</td>\n",
       "      <td>0</td>\n",
       "      <td>3</td>\n",
       "      <td>40</td>\n",
       "      <td>16</td>\n",
       "    </tr>\n",
       "    <tr>\n",
       "      <th>4</th>\n",
       "      <td>5</td>\n",
       "      <td>Ishan Kishan</td>\n",
       "      <td>14</td>\n",
       "      <td>13</td>\n",
       "      <td>4</td>\n",
       "      <td>516</td>\n",
       "      <td>99</td>\n",
       "      <td>57.33</td>\n",
       "      <td>354</td>\n",
       "      <td>145.76</td>\n",
       "      <td>0</td>\n",
       "      <td>4</td>\n",
       "      <td>36</td>\n",
       "      <td>30</td>\n",
       "    </tr>\n",
       "  </tbody>\n",
       "</table>\n",
       "</div>"
      ],
      "text/plain": [
       "   POS          Player  Mat  Inns  NO  Runs    HS    Avg   BF      SR  100  \\\n",
       "0    1        KL Rahul   14    14   2   670  132*  55.83  518  129.34    1   \n",
       "1    2  Shikhar Dhawan   17    17   3   618  106*  44.14  427  144.73    2   \n",
       "2    3    David Warner   16    16   2   548   85*  39.14  407  134.64    0   \n",
       "3    4    Shreyas Iyer   17    17   2   519   88*  34.60  421  123.27    0   \n",
       "4    5    Ishan Kishan   14    13   4   516    99  57.33  354  145.76    0   \n",
       "\n",
       "   50  4s  6s  \n",
       "0   5  58  23  \n",
       "1   4  67  12  \n",
       "2   4  52  14  \n",
       "3   3  40  16  \n",
       "4   4  36  30  "
      ]
     },
     "execution_count": 50,
     "metadata": {},
     "output_type": "execute_result"
    }
   ],
   "source": [
    "ipl.head()"
   ]
  },
  {
   "cell_type": "code",
   "execution_count": 55,
   "id": "c9b3cc63",
   "metadata": {},
   "outputs": [
    {
     "data": {
      "text/html": [
       "<div>\n",
       "<style scoped>\n",
       "    .dataframe tbody tr th:only-of-type {\n",
       "        vertical-align: middle;\n",
       "    }\n",
       "\n",
       "    .dataframe tbody tr th {\n",
       "        vertical-align: top;\n",
       "    }\n",
       "\n",
       "    .dataframe thead th {\n",
       "        text-align: right;\n",
       "    }\n",
       "</style>\n",
       "<table border=\"1\" class=\"dataframe\">\n",
       "  <thead>\n",
       "    <tr style=\"text-align: right;\">\n",
       "      <th></th>\n",
       "      <th>Player</th>\n",
       "      <th>Avg</th>\n",
       "      <th>SR</th>\n",
       "    </tr>\n",
       "  </thead>\n",
       "  <tbody>\n",
       "    <tr>\n",
       "      <th>0</th>\n",
       "      <td>KL Rahul</td>\n",
       "      <td>55.83</td>\n",
       "      <td>129.34</td>\n",
       "    </tr>\n",
       "    <tr>\n",
       "      <th>4</th>\n",
       "      <td>Ishan Kishan</td>\n",
       "      <td>57.33</td>\n",
       "      <td>145.76</td>\n",
       "    </tr>\n",
       "    <tr>\n",
       "      <th>31</th>\n",
       "      <td>Kieron Pollard</td>\n",
       "      <td>53.60</td>\n",
       "      <td>191.42</td>\n",
       "    </tr>\n",
       "    <tr>\n",
       "      <th>36</th>\n",
       "      <td>Wriddhiman Saha</td>\n",
       "      <td>71.33</td>\n",
       "      <td>139.86</td>\n",
       "    </tr>\n",
       "    <tr>\n",
       "      <th>37</th>\n",
       "      <td>Ruturaj Gaikwad</td>\n",
       "      <td>51.00</td>\n",
       "      <td>120.71</td>\n",
       "    </tr>\n",
       "    <tr>\n",
       "      <th>57</th>\n",
       "      <td>Deepak Hooda</td>\n",
       "      <td>101.00</td>\n",
       "      <td>142.25</td>\n",
       "    </tr>\n",
       "    <tr>\n",
       "      <th>60</th>\n",
       "      <td>Tom Curran</td>\n",
       "      <td>83.00</td>\n",
       "      <td>133.87</td>\n",
       "    </tr>\n",
       "  </tbody>\n",
       "</table>\n",
       "</div>"
      ],
      "text/plain": [
       "             Player     Avg      SR\n",
       "0          KL Rahul   55.83  129.34\n",
       "4      Ishan Kishan   57.33  145.76\n",
       "31   Kieron Pollard   53.60  191.42\n",
       "36  Wriddhiman Saha   71.33  139.86\n",
       "37  Ruturaj Gaikwad   51.00  120.71\n",
       "57     Deepak Hooda  101.00  142.25\n",
       "60       Tom Curran   83.00  133.87"
      ]
     },
     "execution_count": 55,
     "metadata": {},
     "output_type": "execute_result"
    }
   ],
   "source": [
    "ipl[(ipl[\"Avg\"]>50)&(ipl[\"SR\"]>120)][[\"Player\",\"Avg\",\"SR\"]]"
   ]
  },
  {
   "cell_type": "markdown",
   "id": "d7bfee44",
   "metadata": {},
   "source": [
    "#### Q6. Please check the list of players who has an average greater than 40 and balls faced above 100."
   ]
  },
  {
   "cell_type": "code",
   "execution_count": 56,
   "id": "09256ad7",
   "metadata": {},
   "outputs": [
    {
     "data": {
      "text/html": [
       "<div>\n",
       "<style scoped>\n",
       "    .dataframe tbody tr th:only-of-type {\n",
       "        vertical-align: middle;\n",
       "    }\n",
       "\n",
       "    .dataframe tbody tr th {\n",
       "        vertical-align: top;\n",
       "    }\n",
       "\n",
       "    .dataframe thead th {\n",
       "        text-align: right;\n",
       "    }\n",
       "</style>\n",
       "<table border=\"1\" class=\"dataframe\">\n",
       "  <thead>\n",
       "    <tr style=\"text-align: right;\">\n",
       "      <th></th>\n",
       "      <th>Player</th>\n",
       "      <th>Avg</th>\n",
       "      <th>BF</th>\n",
       "    </tr>\n",
       "  </thead>\n",
       "  <tbody>\n",
       "    <tr>\n",
       "      <th>0</th>\n",
       "      <td>KL Rahul</td>\n",
       "      <td>55.83</td>\n",
       "      <td>518</td>\n",
       "    </tr>\n",
       "    <tr>\n",
       "      <th>1</th>\n",
       "      <td>Shikhar Dhawan</td>\n",
       "      <td>44.14</td>\n",
       "      <td>427</td>\n",
       "    </tr>\n",
       "    <tr>\n",
       "      <th>4</th>\n",
       "      <td>Ishan Kishan</td>\n",
       "      <td>57.33</td>\n",
       "      <td>354</td>\n",
       "    </tr>\n",
       "    <tr>\n",
       "      <th>8</th>\n",
       "      <td>Virat Kohli</td>\n",
       "      <td>42.36</td>\n",
       "      <td>384</td>\n",
       "    </tr>\n",
       "    <tr>\n",
       "      <th>9</th>\n",
       "      <td>AB de Villiers</td>\n",
       "      <td>45.40</td>\n",
       "      <td>286</td>\n",
       "    </tr>\n",
       "    <tr>\n",
       "      <th>10</th>\n",
       "      <td>Faf du Plessis</td>\n",
       "      <td>40.81</td>\n",
       "      <td>319</td>\n",
       "    </tr>\n",
       "    <tr>\n",
       "      <th>14</th>\n",
       "      <td>Eoin Morgan</td>\n",
       "      <td>41.80</td>\n",
       "      <td>302</td>\n",
       "    </tr>\n",
       "    <tr>\n",
       "      <th>24</th>\n",
       "      <td>Kane Williamson</td>\n",
       "      <td>45.28</td>\n",
       "      <td>237</td>\n",
       "    </tr>\n",
       "    <tr>\n",
       "      <th>27</th>\n",
       "      <td>Chris Gayle</td>\n",
       "      <td>41.14</td>\n",
       "      <td>210</td>\n",
       "    </tr>\n",
       "    <tr>\n",
       "      <th>28</th>\n",
       "      <td>Ben Stokes</td>\n",
       "      <td>40.71</td>\n",
       "      <td>200</td>\n",
       "    </tr>\n",
       "    <tr>\n",
       "      <th>31</th>\n",
       "      <td>Kieron Pollard</td>\n",
       "      <td>53.60</td>\n",
       "      <td>140</td>\n",
       "    </tr>\n",
       "    <tr>\n",
       "      <th>32</th>\n",
       "      <td>Rahul Tewatia</td>\n",
       "      <td>42.50</td>\n",
       "      <td>183</td>\n",
       "    </tr>\n",
       "    <tr>\n",
       "      <th>33</th>\n",
       "      <td>Ravindra Jadeja</td>\n",
       "      <td>46.40</td>\n",
       "      <td>135</td>\n",
       "    </tr>\n",
       "    <tr>\n",
       "      <th>36</th>\n",
       "      <td>Wriddhiman Saha</td>\n",
       "      <td>71.33</td>\n",
       "      <td>153</td>\n",
       "    </tr>\n",
       "    <tr>\n",
       "      <th>37</th>\n",
       "      <td>Ruturaj Gaikwad</td>\n",
       "      <td>51.00</td>\n",
       "      <td>169</td>\n",
       "    </tr>\n",
       "  </tbody>\n",
       "</table>\n",
       "</div>"
      ],
      "text/plain": [
       "             Player    Avg   BF\n",
       "0          KL Rahul  55.83  518\n",
       "1    Shikhar Dhawan  44.14  427\n",
       "4      Ishan Kishan  57.33  354\n",
       "8       Virat Kohli  42.36  384\n",
       "9    AB de Villiers  45.40  286\n",
       "10   Faf du Plessis  40.81  319\n",
       "14      Eoin Morgan  41.80  302\n",
       "24  Kane Williamson  45.28  237\n",
       "27      Chris Gayle  41.14  210\n",
       "28       Ben Stokes  40.71  200\n",
       "31   Kieron Pollard  53.60  140\n",
       "32    Rahul Tewatia  42.50  183\n",
       "33  Ravindra Jadeja  46.40  135\n",
       "36  Wriddhiman Saha  71.33  153\n",
       "37  Ruturaj Gaikwad  51.00  169"
      ]
     },
     "execution_count": 56,
     "metadata": {},
     "output_type": "execute_result"
    }
   ],
   "source": [
    "ipl[(ipl[\"Avg\"]>40)&(ipl[\"BF\"]>100)][[\"Player\",\"Avg\",\"BF\"]]"
   ]
  },
  {
   "cell_type": "markdown",
   "id": "c99d326e",
   "metadata": {},
   "source": [
    "#### Q7. Please check the list of players who scored more than 300 runs with an average greater than 45 & strike rate above 130."
   ]
  },
  {
   "cell_type": "code",
   "execution_count": 61,
   "id": "a46ec5a3",
   "metadata": {},
   "outputs": [
    {
     "data": {
      "text/html": [
       "<div>\n",
       "<style scoped>\n",
       "    .dataframe tbody tr th:only-of-type {\n",
       "        vertical-align: middle;\n",
       "    }\n",
       "\n",
       "    .dataframe tbody tr th {\n",
       "        vertical-align: top;\n",
       "    }\n",
       "\n",
       "    .dataframe thead th {\n",
       "        text-align: right;\n",
       "    }\n",
       "</style>\n",
       "<table border=\"1\" class=\"dataframe\">\n",
       "  <thead>\n",
       "    <tr style=\"text-align: right;\">\n",
       "      <th></th>\n",
       "      <th>Player</th>\n",
       "      <th>Runs</th>\n",
       "      <th>Avg</th>\n",
       "      <th>SR</th>\n",
       "    </tr>\n",
       "  </thead>\n",
       "  <tbody>\n",
       "    <tr>\n",
       "      <th>4</th>\n",
       "      <td>Ishan Kishan</td>\n",
       "      <td>516</td>\n",
       "      <td>57.33</td>\n",
       "      <td>145.76</td>\n",
       "    </tr>\n",
       "    <tr>\n",
       "      <th>9</th>\n",
       "      <td>AB de Villiers</td>\n",
       "      <td>454</td>\n",
       "      <td>45.40</td>\n",
       "      <td>158.74</td>\n",
       "    </tr>\n",
       "    <tr>\n",
       "      <th>24</th>\n",
       "      <td>Kane Williamson</td>\n",
       "      <td>317</td>\n",
       "      <td>45.28</td>\n",
       "      <td>133.75</td>\n",
       "    </tr>\n",
       "  </tbody>\n",
       "</table>\n",
       "</div>"
      ],
      "text/plain": [
       "             Player  Runs    Avg      SR\n",
       "4      Ishan Kishan   516  57.33  145.76\n",
       "9    AB de Villiers   454  45.40  158.74\n",
       "24  Kane Williamson   317  45.28  133.75"
      ]
     },
     "execution_count": 61,
     "metadata": {},
     "output_type": "execute_result"
    }
   ],
   "source": [
    "ipl[(ipl[\"Runs\"]>300)&(ipl[\"Avg\"]>45)&(ipl[\"SR\"]>130)][[\"Player\",\"Runs\",\"Avg\",\"SR\"]]"
   ]
  },
  {
   "cell_type": "markdown",
   "id": "096682f8",
   "metadata": {},
   "source": [
    "#### Q8. Players who scroed alteast one century in this season."
   ]
  },
  {
   "cell_type": "code",
   "execution_count": 64,
   "id": "ca8bf714",
   "metadata": {},
   "outputs": [
    {
     "data": {
      "text/html": [
       "<div>\n",
       "<style scoped>\n",
       "    .dataframe tbody tr th:only-of-type {\n",
       "        vertical-align: middle;\n",
       "    }\n",
       "\n",
       "    .dataframe tbody tr th {\n",
       "        vertical-align: top;\n",
       "    }\n",
       "\n",
       "    .dataframe thead th {\n",
       "        text-align: right;\n",
       "    }\n",
       "</style>\n",
       "<table border=\"1\" class=\"dataframe\">\n",
       "  <thead>\n",
       "    <tr style=\"text-align: right;\">\n",
       "      <th></th>\n",
       "      <th>Player</th>\n",
       "      <th>100</th>\n",
       "    </tr>\n",
       "  </thead>\n",
       "  <tbody>\n",
       "    <tr>\n",
       "      <th>1</th>\n",
       "      <td>Shikhar Dhawan</td>\n",
       "      <td>2</td>\n",
       "    </tr>\n",
       "    <tr>\n",
       "      <th>0</th>\n",
       "      <td>KL Rahul</td>\n",
       "      <td>1</td>\n",
       "    </tr>\n",
       "    <tr>\n",
       "      <th>13</th>\n",
       "      <td>Mayank Agarwal</td>\n",
       "      <td>1</td>\n",
       "    </tr>\n",
       "    <tr>\n",
       "      <th>28</th>\n",
       "      <td>Ben Stokes</td>\n",
       "      <td>1</td>\n",
       "    </tr>\n",
       "  </tbody>\n",
       "</table>\n",
       "</div>"
      ],
      "text/plain": [
       "            Player  100\n",
       "1   Shikhar Dhawan    2\n",
       "0         KL Rahul    1\n",
       "13  Mayank Agarwal    1\n",
       "28      Ben Stokes    1"
      ]
     },
     "execution_count": 64,
     "metadata": {},
     "output_type": "execute_result"
    }
   ],
   "source": [
    "ipl[ipl[\"100\"]>0][[\"Player\",\"100\"]].sort_values(\"100\",ascending=False)"
   ]
  },
  {
   "cell_type": "markdown",
   "id": "c4b724af",
   "metadata": {},
   "source": [
    "#### Q9. Players who scored atleast 4 half centuries in this season."
   ]
  },
  {
   "cell_type": "code",
   "execution_count": 66,
   "id": "9aa776c9",
   "metadata": {},
   "outputs": [
    {
     "data": {
      "text/html": [
       "<div>\n",
       "<style scoped>\n",
       "    .dataframe tbody tr th:only-of-type {\n",
       "        vertical-align: middle;\n",
       "    }\n",
       "\n",
       "    .dataframe tbody tr th {\n",
       "        vertical-align: top;\n",
       "    }\n",
       "\n",
       "    .dataframe thead th {\n",
       "        text-align: right;\n",
       "    }\n",
       "</style>\n",
       "<table border=\"1\" class=\"dataframe\">\n",
       "  <thead>\n",
       "    <tr style=\"text-align: right;\">\n",
       "      <th></th>\n",
       "      <th>Player</th>\n",
       "      <th>50</th>\n",
       "    </tr>\n",
       "  </thead>\n",
       "  <tbody>\n",
       "    <tr>\n",
       "      <th>0</th>\n",
       "      <td>KL Rahul</td>\n",
       "      <td>5</td>\n",
       "    </tr>\n",
       "    <tr>\n",
       "      <th>1</th>\n",
       "      <td>Shikhar Dhawan</td>\n",
       "      <td>4</td>\n",
       "    </tr>\n",
       "    <tr>\n",
       "      <th>2</th>\n",
       "      <td>David Warner</td>\n",
       "      <td>4</td>\n",
       "    </tr>\n",
       "    <tr>\n",
       "      <th>4</th>\n",
       "      <td>Ishan Kishan</td>\n",
       "      <td>4</td>\n",
       "    </tr>\n",
       "    <tr>\n",
       "      <th>5</th>\n",
       "      <td>Quinton de Kock</td>\n",
       "      <td>4</td>\n",
       "    </tr>\n",
       "    <tr>\n",
       "      <th>6</th>\n",
       "      <td>Suryakumar Yadav</td>\n",
       "      <td>4</td>\n",
       "    </tr>\n",
       "    <tr>\n",
       "      <th>7</th>\n",
       "      <td>Devdutt Padikkal</td>\n",
       "      <td>5</td>\n",
       "    </tr>\n",
       "    <tr>\n",
       "      <th>9</th>\n",
       "      <td>AB de Villiers</td>\n",
       "      <td>5</td>\n",
       "    </tr>\n",
       "    <tr>\n",
       "      <th>10</th>\n",
       "      <td>Faf du Plessis</td>\n",
       "      <td>4</td>\n",
       "    </tr>\n",
       "  </tbody>\n",
       "</table>\n",
       "</div>"
      ],
      "text/plain": [
       "              Player  50\n",
       "0           KL Rahul   5\n",
       "1     Shikhar Dhawan   4\n",
       "2       David Warner   4\n",
       "4       Ishan Kishan   4\n",
       "5    Quinton de Kock   4\n",
       "6   Suryakumar Yadav   4\n",
       "7   Devdutt Padikkal   5\n",
       "9     AB de Villiers   5\n",
       "10    Faf du Plessis   4"
      ]
     },
     "execution_count": 66,
     "metadata": {},
     "output_type": "execute_result"
    }
   ],
   "source": [
    "ipl[ipl[\"50\"]>3][[\"Player\",\"50\"]]"
   ]
  },
  {
   "cell_type": "markdown",
   "id": "eb4afdac",
   "metadata": {},
   "source": [
    "#### Q10. Check the list of players who hit more than 45 boundARIES and more than 10 sixes in this season."
   ]
  },
  {
   "cell_type": "code",
   "execution_count": 94,
   "id": "2b368808",
   "metadata": {},
   "outputs": [
    {
     "data": {
      "text/html": [
       "<div>\n",
       "<style scoped>\n",
       "    .dataframe tbody tr th:only-of-type {\n",
       "        vertical-align: middle;\n",
       "    }\n",
       "\n",
       "    .dataframe tbody tr th {\n",
       "        vertical-align: top;\n",
       "    }\n",
       "\n",
       "    .dataframe thead th {\n",
       "        text-align: right;\n",
       "    }\n",
       "</style>\n",
       "<table border=\"1\" class=\"dataframe\">\n",
       "  <thead>\n",
       "    <tr style=\"text-align: right;\">\n",
       "      <th></th>\n",
       "      <th>Player</th>\n",
       "      <th>4s</th>\n",
       "      <th>6s</th>\n",
       "    </tr>\n",
       "  </thead>\n",
       "  <tbody>\n",
       "    <tr>\n",
       "      <th>0</th>\n",
       "      <td>KL Rahul</td>\n",
       "      <td>58</td>\n",
       "      <td>23</td>\n",
       "    </tr>\n",
       "    <tr>\n",
       "      <th>1</th>\n",
       "      <td>Shikhar Dhawan</td>\n",
       "      <td>67</td>\n",
       "      <td>12</td>\n",
       "    </tr>\n",
       "    <tr>\n",
       "      <th>2</th>\n",
       "      <td>David Warner</td>\n",
       "      <td>52</td>\n",
       "      <td>14</td>\n",
       "    </tr>\n",
       "    <tr>\n",
       "      <th>5</th>\n",
       "      <td>Quinton de Kock</td>\n",
       "      <td>46</td>\n",
       "      <td>22</td>\n",
       "    </tr>\n",
       "    <tr>\n",
       "      <th>6</th>\n",
       "      <td>Suryakumar Yadav</td>\n",
       "      <td>61</td>\n",
       "      <td>11</td>\n",
       "    </tr>\n",
       "  </tbody>\n",
       "</table>\n",
       "</div>"
      ],
      "text/plain": [
       "             Player  4s  6s\n",
       "0          KL Rahul  58  23\n",
       "1    Shikhar Dhawan  67  12\n",
       "2      David Warner  52  14\n",
       "5   Quinton de Kock  46  22\n",
       "6  Suryakumar Yadav  61  11"
      ]
     },
     "execution_count": 94,
     "metadata": {},
     "output_type": "execute_result"
    }
   ],
   "source": [
    "ipl[(ipl[\"4s\"]>45)&(ipl[\"6s\"]>10)][[\"Player\",\"4s\",\"6s\"]]"
   ]
  },
  {
   "cell_type": "markdown",
   "id": "79d3f767",
   "metadata": {},
   "source": [
    "#### Q11. Plot a histogram of number of matches played in a season by players.\n"
   ]
  },
  {
   "cell_type": "code",
   "execution_count": 108,
   "id": "92a48ca3",
   "metadata": {},
   "outputs": [
    {
     "name": "stderr",
     "output_type": "stream",
     "text": [
      "C:\\Users\\adina\\anaconda3\\Lib\\site-packages\\seaborn\\_oldcore.py:1498: FutureWarning: is_categorical_dtype is deprecated and will be removed in a future version. Use isinstance(dtype, CategoricalDtype) instead\n",
      "  if pd.api.types.is_categorical_dtype(vector):\n",
      "C:\\Users\\adina\\anaconda3\\Lib\\site-packages\\seaborn\\_oldcore.py:1119: FutureWarning: use_inf_as_na option is deprecated and will be removed in a future version. Convert inf values to NaN before operating instead.\n",
      "  with pd.option_context('mode.use_inf_as_na', True):\n"
     ]
    },
    {
     "data": {
      "text/plain": [
       "<Axes: xlabel='Mat', ylabel='Count'>"
      ]
     },
     "execution_count": 108,
     "metadata": {},
     "output_type": "execute_result"
    },
    {
     "data": {
      "image/png": "[encoded data removed]",
      "text/plain": [
       "<Figure size 640x480 with 1 Axes>"
      ]
     },
     "metadata": {},
     "output_type": "display_data"
    }
   ],
   "source": [
    "sns.histplot(x=\"Mat\",data=ipl)"
   ]
  },
  {
   "cell_type": "markdown",
   "id": "035fce1c",
   "metadata": {},
   "source": [
    "Conclusion:\n",
    "    <br>\n",
    "    1.more than 30 players played 14 matches"
   ]
  },
  {
   "cell_type": "markdown",
   "id": "9cf3fdd3",
   "metadata": {},
   "source": [
    "#### Q12. Plot the histogram of balls faced by players.\n"
   ]
  },
  {
   "cell_type": "code",
   "execution_count": 112,
   "id": "d06b9ea6",
   "metadata": {},
   "outputs": [
    {
     "name": "stderr",
     "output_type": "stream",
     "text": [
      "C:\\Users\\adina\\anaconda3\\Lib\\site-packages\\seaborn\\_oldcore.py:1498: FutureWarning: is_categorical_dtype is deprecated and will be removed in a future version. Use isinstance(dtype, CategoricalDtype) instead\n",
      "  if pd.api.types.is_categorical_dtype(vector):\n",
      "C:\\Users\\adina\\anaconda3\\Lib\\site-packages\\seaborn\\_oldcore.py:1119: FutureWarning: use_inf_as_na option is deprecated and will be removed in a future version. Convert inf values to NaN before operating instead.\n",
      "  with pd.option_context('mode.use_inf_as_na', True):\n"
     ]
    },
    {
     "data": {
      "text/plain": [
       "<Axes: xlabel='BF', ylabel='Count'>"
      ]
     },
     "execution_count": 112,
     "metadata": {},
     "output_type": "execute_result"
    },
    {
     "data": {
      "image/png": "[encoded data removed]",
      "text/plain": [
       "<Figure size 640x480 with 1 Axes>"
      ]
     },
     "metadata": {},
     "output_type": "display_data"
    }
   ],
   "source": [
    "sns.histplot(x=\"BF\",data=ipl,bins=5)"
   ]
  },
  {
   "cell_type": "markdown",
   "id": "195f8fc2",
   "metadata": {},
   "source": [
    "More than 80 players faced 100 balls"
   ]
  },
  {
   "cell_type": "markdown",
   "id": "3acd4517",
   "metadata": {},
   "source": [
    "#### Q13. Top 20 players with most runs in a season."
   ]
  },
  {
   "cell_type": "code",
   "execution_count": 89,
   "id": "f5a18359",
   "metadata": {},
   "outputs": [
    {
     "data": {
      "text/html": [
       "<div>\n",
       "<style scoped>\n",
       "    .dataframe tbody tr th:only-of-type {\n",
       "        vertical-align: middle;\n",
       "    }\n",
       "\n",
       "    .dataframe tbody tr th {\n",
       "        vertical-align: top;\n",
       "    }\n",
       "\n",
       "    .dataframe thead th {\n",
       "        text-align: right;\n",
       "    }\n",
       "</style>\n",
       "<table border=\"1\" class=\"dataframe\">\n",
       "  <thead>\n",
       "    <tr style=\"text-align: right;\">\n",
       "      <th></th>\n",
       "      <th>Player</th>\n",
       "      <th>Runs</th>\n",
       "    </tr>\n",
       "  </thead>\n",
       "  <tbody>\n",
       "    <tr>\n",
       "      <th>0</th>\n",
       "      <td>KL Rahul</td>\n",
       "      <td>670</td>\n",
       "    </tr>\n",
       "    <tr>\n",
       "      <th>1</th>\n",
       "      <td>Shikhar Dhawan</td>\n",
       "      <td>618</td>\n",
       "    </tr>\n",
       "    <tr>\n",
       "      <th>2</th>\n",
       "      <td>David Warner</td>\n",
       "      <td>548</td>\n",
       "    </tr>\n",
       "    <tr>\n",
       "      <th>3</th>\n",
       "      <td>Shreyas Iyer</td>\n",
       "      <td>519</td>\n",
       "    </tr>\n",
       "    <tr>\n",
       "      <th>4</th>\n",
       "      <td>Ishan Kishan</td>\n",
       "      <td>516</td>\n",
       "    </tr>\n",
       "    <tr>\n",
       "      <th>5</th>\n",
       "      <td>Quinton de Kock</td>\n",
       "      <td>503</td>\n",
       "    </tr>\n",
       "    <tr>\n",
       "      <th>6</th>\n",
       "      <td>Suryakumar Yadav</td>\n",
       "      <td>480</td>\n",
       "    </tr>\n",
       "    <tr>\n",
       "      <th>7</th>\n",
       "      <td>Devdutt Padikkal</td>\n",
       "      <td>473</td>\n",
       "    </tr>\n",
       "    <tr>\n",
       "      <th>8</th>\n",
       "      <td>Virat Kohli</td>\n",
       "      <td>466</td>\n",
       "    </tr>\n",
       "    <tr>\n",
       "      <th>9</th>\n",
       "      <td>AB de Villiers</td>\n",
       "      <td>454</td>\n",
       "    </tr>\n",
       "    <tr>\n",
       "      <th>10</th>\n",
       "      <td>Faf du Plessis</td>\n",
       "      <td>449</td>\n",
       "    </tr>\n",
       "    <tr>\n",
       "      <th>11</th>\n",
       "      <td>Shubman Gill</td>\n",
       "      <td>440</td>\n",
       "    </tr>\n",
       "    <tr>\n",
       "      <th>12</th>\n",
       "      <td>Manish Pandey</td>\n",
       "      <td>425</td>\n",
       "    </tr>\n",
       "    <tr>\n",
       "      <th>13</th>\n",
       "      <td>Mayank Agarwal</td>\n",
       "      <td>424</td>\n",
       "    </tr>\n",
       "    <tr>\n",
       "      <th>14</th>\n",
       "      <td>Eoin Morgan</td>\n",
       "      <td>418</td>\n",
       "    </tr>\n",
       "    <tr>\n",
       "      <th>15</th>\n",
       "      <td>Sanju Samson</td>\n",
       "      <td>375</td>\n",
       "    </tr>\n",
       "    <tr>\n",
       "      <th>16</th>\n",
       "      <td>Ambati Rayudu</td>\n",
       "      <td>359</td>\n",
       "    </tr>\n",
       "    <tr>\n",
       "      <th>17</th>\n",
       "      <td>Nicholas Pooran</td>\n",
       "      <td>353</td>\n",
       "    </tr>\n",
       "    <tr>\n",
       "      <th>18</th>\n",
       "      <td>Nitish Rana</td>\n",
       "      <td>352</td>\n",
       "    </tr>\n",
       "    <tr>\n",
       "      <th>19</th>\n",
       "      <td>Marcus Stoinis</td>\n",
       "      <td>352</td>\n",
       "    </tr>\n",
       "  </tbody>\n",
       "</table>\n",
       "</div>"
      ],
      "text/plain": [
       "              Player  Runs\n",
       "0           KL Rahul   670\n",
       "1     Shikhar Dhawan   618\n",
       "2       David Warner   548\n",
       "3       Shreyas Iyer   519\n",
       "4       Ishan Kishan   516\n",
       "5    Quinton de Kock   503\n",
       "6   Suryakumar Yadav   480\n",
       "7   Devdutt Padikkal   473\n",
       "8        Virat Kohli   466\n",
       "9     AB de Villiers   454\n",
       "10    Faf du Plessis   449\n",
       "11      Shubman Gill   440\n",
       "12     Manish Pandey   425\n",
       "13    Mayank Agarwal   424\n",
       "14       Eoin Morgan   418\n",
       "15      Sanju Samson   375\n",
       "16     Ambati Rayudu   359\n",
       "17   Nicholas Pooran   353\n",
       "18       Nitish Rana   352\n",
       "19    Marcus Stoinis   352"
      ]
     },
     "execution_count": 89,
     "metadata": {},
     "output_type": "execute_result"
    }
   ],
   "source": [
    "ipl.sort_values(\"Runs\",ascending=False).head(20)[[\"Player\",\"Runs\"]]"
   ]
  },
  {
   "cell_type": "markdown",
   "id": "c67256e4",
   "metadata": {},
   "source": [
    "#### Q14. Bar chart for top 20 players with best strike rate in a season.\n"
   ]
  },
  {
   "cell_type": "code",
   "execution_count": 87,
   "id": "706542aa",
   "metadata": {},
   "outputs": [
    {
     "data": {
      "text/plain": [
       "<Axes: xlabel='Player'>"
      ]
     },
     "execution_count": 87,
     "metadata": {},
     "output_type": "execute_result"
    },
    {
     "data": {
      "image/png": "[encoded data removed]",
      "text/plain": [
       "<Figure size 640x480 with 1 Axes>"
      ]
     },
     "metadata": {},
     "output_type": "display_data"
    }
   ],
   "source": [
    "ipl.sort_values(\"SR\",ascending=False).head(10).plot(x=\"Player\",y=\"SR\",kind=\"bar\")"
   ]
  },
  {
   "cell_type": "markdown",
   "id": "70c4ef89",
   "metadata": {},
   "source": [
    "Pollard is the player whoes Strike rate is more than all the players."
   ]
  },
  {
   "cell_type": "markdown",
   "id": "2fbd9549",
   "metadata": {},
   "source": [
    "#### Q15. Top 30 players with highest number of sixes.\n"
   ]
  },
  {
   "cell_type": "code",
   "execution_count": 81,
   "id": "f6c3b9be",
   "metadata": {},
   "outputs": [
    {
     "data": {
      "text/html": [
       "<div>\n",
       "<style scoped>\n",
       "    .dataframe tbody tr th:only-of-type {\n",
       "        vertical-align: middle;\n",
       "    }\n",
       "\n",
       "    .dataframe tbody tr th {\n",
       "        vertical-align: top;\n",
       "    }\n",
       "\n",
       "    .dataframe thead th {\n",
       "        text-align: right;\n",
       "    }\n",
       "</style>\n",
       "<table border=\"1\" class=\"dataframe\">\n",
       "  <thead>\n",
       "    <tr style=\"text-align: right;\">\n",
       "      <th></th>\n",
       "      <th>Player</th>\n",
       "      <th>6s</th>\n",
       "    </tr>\n",
       "  </thead>\n",
       "  <tbody>\n",
       "    <tr>\n",
       "      <th>4</th>\n",
       "      <td>Ishan Kishan</td>\n",
       "      <td>30</td>\n",
       "    </tr>\n",
       "    <tr>\n",
       "      <th>15</th>\n",
       "      <td>Sanju Samson</td>\n",
       "      <td>26</td>\n",
       "    </tr>\n",
       "    <tr>\n",
       "      <th>29</th>\n",
       "      <td>Hardik Pandya</td>\n",
       "      <td>25</td>\n",
       "    </tr>\n",
       "    <tr>\n",
       "      <th>17</th>\n",
       "      <td>Nicholas Pooran</td>\n",
       "      <td>25</td>\n",
       "    </tr>\n",
       "    <tr>\n",
       "      <th>14</th>\n",
       "      <td>Eoin Morgan</td>\n",
       "      <td>24</td>\n",
       "    </tr>\n",
       "    <tr>\n",
       "      <th>9</th>\n",
       "      <td>AB de Villiers</td>\n",
       "      <td>23</td>\n",
       "    </tr>\n",
       "    <tr>\n",
       "      <th>27</th>\n",
       "      <td>Chris Gayle</td>\n",
       "      <td>23</td>\n",
       "    </tr>\n",
       "    <tr>\n",
       "      <th>0</th>\n",
       "      <td>KL Rahul</td>\n",
       "      <td>23</td>\n",
       "    </tr>\n",
       "    <tr>\n",
       "      <th>31</th>\n",
       "      <td>Kieron Pollard</td>\n",
       "      <td>22</td>\n",
       "    </tr>\n",
       "    <tr>\n",
       "      <th>5</th>\n",
       "      <td>Quinton de Kock</td>\n",
       "      <td>22</td>\n",
       "    </tr>\n",
       "    <tr>\n",
       "      <th>22</th>\n",
       "      <td>Rohit Sharma</td>\n",
       "      <td>19</td>\n",
       "    </tr>\n",
       "    <tr>\n",
       "      <th>12</th>\n",
       "      <td>Manish Pandey</td>\n",
       "      <td>18</td>\n",
       "    </tr>\n",
       "    <tr>\n",
       "      <th>32</th>\n",
       "      <td>Rahul Tewatia</td>\n",
       "      <td>17</td>\n",
       "    </tr>\n",
       "    <tr>\n",
       "      <th>3</th>\n",
       "      <td>Shreyas Iyer</td>\n",
       "      <td>16</td>\n",
       "    </tr>\n",
       "    <tr>\n",
       "      <th>23</th>\n",
       "      <td>Jos Buttler</td>\n",
       "      <td>16</td>\n",
       "    </tr>\n",
       "    <tr>\n",
       "      <th>19</th>\n",
       "      <td>Marcus Stoinis</td>\n",
       "      <td>16</td>\n",
       "    </tr>\n",
       "    <tr>\n",
       "      <th>13</th>\n",
       "      <td>Mayank Agarwal</td>\n",
       "      <td>15</td>\n",
       "    </tr>\n",
       "    <tr>\n",
       "      <th>10</th>\n",
       "      <td>Faf du Plessis</td>\n",
       "      <td>14</td>\n",
       "    </tr>\n",
       "    <tr>\n",
       "      <th>2</th>\n",
       "      <td>David Warner</td>\n",
       "      <td>14</td>\n",
       "    </tr>\n",
       "    <tr>\n",
       "      <th>20</th>\n",
       "      <td>Jonny Bairstow</td>\n",
       "      <td>13</td>\n",
       "    </tr>\n",
       "    <tr>\n",
       "      <th>26</th>\n",
       "      <td>Shane Watson</td>\n",
       "      <td>13</td>\n",
       "    </tr>\n",
       "    <tr>\n",
       "      <th>40</th>\n",
       "      <td>Sam Curran</td>\n",
       "      <td>12</td>\n",
       "    </tr>\n",
       "    <tr>\n",
       "      <th>18</th>\n",
       "      <td>Nitish Rana</td>\n",
       "      <td>12</td>\n",
       "    </tr>\n",
       "    <tr>\n",
       "      <th>16</th>\n",
       "      <td>Ambati Rayudu</td>\n",
       "      <td>12</td>\n",
       "    </tr>\n",
       "    <tr>\n",
       "      <th>41</th>\n",
       "      <td>Shimron Hetmyer</td>\n",
       "      <td>12</td>\n",
       "    </tr>\n",
       "    <tr>\n",
       "      <th>1</th>\n",
       "      <td>Shikhar Dhawan</td>\n",
       "      <td>12</td>\n",
       "    </tr>\n",
       "    <tr>\n",
       "      <th>8</th>\n",
       "      <td>Virat Kohli</td>\n",
       "      <td>11</td>\n",
       "    </tr>\n",
       "    <tr>\n",
       "      <th>33</th>\n",
       "      <td>Ravindra Jadeja</td>\n",
       "      <td>11</td>\n",
       "    </tr>\n",
       "    <tr>\n",
       "      <th>6</th>\n",
       "      <td>Suryakumar Yadav</td>\n",
       "      <td>11</td>\n",
       "    </tr>\n",
       "    <tr>\n",
       "      <th>24</th>\n",
       "      <td>Kane Williamson</td>\n",
       "      <td>10</td>\n",
       "    </tr>\n",
       "  </tbody>\n",
       "</table>\n",
       "</div>"
      ],
      "text/plain": [
       "              Player  6s\n",
       "4       Ishan Kishan  30\n",
       "15      Sanju Samson  26\n",
       "29     Hardik Pandya  25\n",
       "17   Nicholas Pooran  25\n",
       "14       Eoin Morgan  24\n",
       "9     AB de Villiers  23\n",
       "27       Chris Gayle  23\n",
       "0           KL Rahul  23\n",
       "31    Kieron Pollard  22\n",
       "5    Quinton de Kock  22\n",
       "22      Rohit Sharma  19\n",
       "12     Manish Pandey  18\n",
       "32     Rahul Tewatia  17\n",
       "3       Shreyas Iyer  16\n",
       "23       Jos Buttler  16\n",
       "19    Marcus Stoinis  16\n",
       "13    Mayank Agarwal  15\n",
       "10    Faf du Plessis  14\n",
       "2       David Warner  14\n",
       "20    Jonny Bairstow  13\n",
       "26      Shane Watson  13\n",
       "40        Sam Curran  12\n",
       "18       Nitish Rana  12\n",
       "16     Ambati Rayudu  12\n",
       "41   Shimron Hetmyer  12\n",
       "1     Shikhar Dhawan  12\n",
       "8        Virat Kohli  11\n",
       "33   Ravindra Jadeja  11\n",
       "6   Suryakumar Yadav  11\n",
       "24   Kane Williamson  10"
      ]
     },
     "execution_count": 81,
     "metadata": {},
     "output_type": "execute_result"
    }
   ],
   "source": [
    "ipl.sort_values(\"6s\",ascending=False).head(30)[[\"Player\",\"6s\"]]"
   ]
  },
  {
   "cell_type": "markdown",
   "id": "1ed13278",
   "metadata": {},
   "source": [
    "#### Q16. Scatter plot of runs scored by a player v/s balls faced in a season.\n"
   ]
  },
  {
   "cell_type": "code",
   "execution_count": 76,
   "id": "df95cec0",
   "metadata": {},
   "outputs": [
    {
     "name": "stderr",
     "output_type": "stream",
     "text": [
      "C:\\Users\\adina\\anaconda3\\Lib\\site-packages\\seaborn\\_oldcore.py:1498: FutureWarning: is_categorical_dtype is deprecated and will be removed in a future version. Use isinstance(dtype, CategoricalDtype) instead\n",
      "  if pd.api.types.is_categorical_dtype(vector):\n",
      "C:\\Users\\adina\\anaconda3\\Lib\\site-packages\\seaborn\\_oldcore.py:1498: FutureWarning: is_categorical_dtype is deprecated and will be removed in a future version. Use isinstance(dtype, CategoricalDtype) instead\n",
      "  if pd.api.types.is_categorical_dtype(vector):\n"
     ]
    },
    {
     "data": {
      "text/plain": [
       "<Axes: xlabel='Runs', ylabel='BF'>"
      ]
     },
     "execution_count": 76,
     "metadata": {},
     "output_type": "execute_result"
    },
    {
     "data": {
      "image/png": "[encoded data removed]",
      "text/plain": [
       "<Figure size 640x480 with 1 Axes>"
      ]
     },
     "metadata": {},
     "output_type": "display_data"
    }
   ],
   "source": [
    "sns.scatterplot(data=ipl,x=\"Runs\",y=\"BF\")"
   ]
  },
  {
   "cell_type": "markdown",
   "id": "46351564",
   "metadata": {},
   "source": [
    "Conclusion:\n",
    "    <br>\n",
    "    1.Runs vs Ball faced is positively correlated"
   ]
  },
  {
   "cell_type": "markdown",
   "id": "a15da0f4",
   "metadata": {},
   "source": [
    "#### Q17. KDE plot for averages on a season."
   ]
  },
  {
   "cell_type": "code",
   "execution_count": 106,
   "id": "2164b7b3",
   "metadata": {},
   "outputs": [
    {
     "name": "stderr",
     "output_type": "stream",
     "text": [
      "C:\\Users\\adina\\anaconda3\\Lib\\site-packages\\seaborn\\_oldcore.py:1498: FutureWarning: is_categorical_dtype is deprecated and will be removed in a future version. Use isinstance(dtype, CategoricalDtype) instead\n",
      "  if pd.api.types.is_categorical_dtype(vector):\n",
      "C:\\Users\\adina\\anaconda3\\Lib\\site-packages\\seaborn\\_oldcore.py:1119: FutureWarning: use_inf_as_na option is deprecated and will be removed in a future version. Convert inf values to NaN before operating instead.\n",
      "  with pd.option_context('mode.use_inf_as_na', True):\n"
     ]
    },
    {
     "data": {
      "text/plain": [
       "<Axes: xlabel='Avg', ylabel='Density'>"
      ]
     },
     "execution_count": 106,
     "metadata": {},
     "output_type": "execute_result"
    },
    {
     "data": {
      "image/png": "[encoded data removed]",
      "text/plain": [
       "<Figure size 640x480 with 1 Axes>"
      ]
     },
     "metadata": {},
     "output_type": "display_data"
    }
   ],
   "source": [
    "sns.kdeplot(x=\"Avg\",data=ipl)"
   ]
  },
  {
   "cell_type": "markdown",
   "id": "ca5375e8",
   "metadata": {},
   "source": [
    "most number of Players Avg btn 0 to 30"
   ]
  },
  {
   "cell_type": "code",
   "execution_count": null,
   "id": "e619132f",
   "metadata": {},
   "outputs": [],
   "source": []
  }
 ],
 "metadata": {
  "kernelspec": {
   "display_name": "Python 3 (ipykernel)",
   "language": "python",
   "name": "python3"
  },
  "language_info": {
   "codemirror_mode": {
    "name": "ipython",
    "version": 3
   },
   "file_extension": ".py",
   "mimetype": "text/x-python",
   "name": "python",
   "nbconvert_exporter": "python",
   "pygments_lexer": "ipython3",
   "version": "3.11.5"
  }
 },
 "nbformat": 4,
 "nbformat_minor": 5
}
